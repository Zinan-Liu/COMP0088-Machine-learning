{
 "cells": [
  {
   "cell_type": "markdown",
   "metadata": {},
   "source": [
    "# Assignment 7: Unsupervised learning (PCA, K-Means)\n",
    "\n",
    "## Introduction\n",
    "\n",
    "In this assignment, you will need to compute the Principal Component Analysis and K-Means algorithms and use them on a dataset. The dataset is the set of images from MNIST database corresponding to the handwritten digit $7$. Each image is $28px\\times 28px$. The set is divided in a training set and a testing set of respective size $3133$ and $3132$.\n",
    "\n",
    "As usual, the structure of the code is given to you and you need to fill the parts corresponding to the questions below.\n",
    "\n",
    "\n",
    "## Questions\n",
    "\n",
    "### PCA <a href='#pca'>Starts here</a>\n",
    "<b><a href='#q1'>Question 1 (25%)</a></b>  Complete the functions `pca(.)` and `pca_project(.)`. For information, the function `np.linalg.eigh` compute the eigenvalues and eigenvectors of a symmetric matrix. It returns two arrays, the first one contains the eigenvalues in ascending order and the second one the corresponding eigenvector.<br/>\n",
    "<b><a href='#q2'>Question 2 (15%)</a></b> Use the function `pca(.)` to learn a decomposition on the <b>training set</b>. Then compute the reconstruction error $E$ on the <b>testing set</b>, for a number of components varying from 1 to 100, as defined by: \n",
    "$$\n",
    "E(D) = \\frac{1}{N}\\sum_{n=1}^N \\|I_n - (\\mathbf{\\mu}+\\sum_{k=1}^D \\omega_k^n\\mathbf{u}_k) \\|_2,\n",
    "$$\n",
    "with $I_n$ denoting the $n$-th image of the testing set, $\\mathbf{\\mu}$ is the mean digit learnt from the training set, $\\mathbf{u}_k$ is the eigenvector with the $k$-th largest eigenvalue, and $\\omega_k^n$ is the expansion coefficient of the $n$-th image on the $k$-th eigenvector. Finally, $\\|.\\|_2$ denotes the $L_2$ norm. Numpy has the method `np.linalg.norm(.)` that computes norms (check out the documentation for more infos).\n",
    "<br/>\n",
    "<b><a href='#q3'>Question 3 (5%)</a></b> Plot the evolution of the error $E$ for $D = 1,\\ldots,100$.\n",
    "\n",
    "### K-means <a href='#kmeans'>Starts here</a>\n",
    "<b><a href='#q4'>Question 4 (10%)</a></b> Complete the function `distortion(.)` which computes the distortion cost $F$ for a given clustering of the data:\n",
    "$$\n",
    "F(m,c) = \\frac{1}{N}\\sum_{i=1}^N \\|x^i - c^{m(i)}\\|_2,\n",
    "$$\n",
    "where $N$ corresponds to the total number of images in the set and $m(i)$ denotes which cluster is assigned to the image $x^i$.<br/>\n",
    "<b><a href='#q5'>Question 5 (15%)</a></b> Complete the functions `kmeans(.)` and `assign_cluster(.)`, make sure that it computes the distortion after each update. Then use the function on your training set, the number of cluster $k = 2$. Check that the distortion decreases as the algorithm progresses.<br/>\n",
    "<b><a href='#q6'>Question 6 (15%)</a></b> In order to mitigate the local minima problem of K-Means, repeat the algorithm $10$ times, and keep the solution that yields the smallest distortion at the end. Show the resulting digit clusters (centroids of your clusters) using the `plot_kmeans(.)` function given.<br/>\n",
    "<b><a href='#q7'>Question 7 (10%)</a></b> Repeat the procedure of Question 6 for values of $k = 3,4,5,10,50,100$ (Allow for ~10min). Plot the evolution of the distortion cost of the training and testing data. Remember to use the functions `select_clustering(.)`, `assign_cluster(.)`, and `distortion(.)` defined earlier.<br/>\n",
    "\n",
    "### Comparison <a href='#comparison'>Starts here</a>\n",
    "<b><a href='#q8'>Question 8 (5%)</a></b> Compare the results from PCA to the results of K-means on the <b>test set</b> by plotting on the same graph the reconstruction error $E(D)$ for $D = 3,4,5,10,50,100$ and the distortion cost you just computed (remark that the two measures are simply $L_2$ norms thus the comparison is valid). To be clear, the first one measure the error in the reconstructed image from the projection on the components of PCA, the second measure the error between each image and the centroid of the cluster it is assigned to. Both correpond to the error made when approximating the original image to either its projection or its cluster's centroid.\n",
    "\n"
   ]
  },
  {
   "cell_type": "markdown",
   "metadata": {},
   "source": [
    "### Importing necessary packages"
   ]
  },
  {
   "cell_type": "code",
   "execution_count": 1,
   "metadata": {},
   "outputs": [
    {
     "name": "stderr",
     "output_type": "stream",
     "text": [
      "C:\\Users\\platypus\\Desktop\\New folder\\7\\Assignment week 7-20210105\\assignment7\\mnist.py:17: SyntaxWarning: \"is\" with a literal. Did you mean \"==\"?\n",
      "  if dataset is \"training\":\n",
      "C:\\Users\\platypus\\Desktop\\New folder\\7\\Assignment week 7-20210105\\assignment7\\mnist.py:20: SyntaxWarning: \"is\" with a literal. Did you mean \"==\"?\n",
      "  elif dataset is \"testing\":\n"
     ]
    }
   ],
   "source": [
    "import numpy as np\n",
    "import matplotlib.pyplot as plt\n",
    "from mnist import read, show\n",
    "\n",
    "%matplotlib inline"
   ]
  },
  {
   "cell_type": "markdown",
   "metadata": {},
   "source": [
    "### Importing the data to form training and test sets "
   ]
  },
  {
   "cell_type": "code",
   "execution_count": 2,
   "metadata": {
    "scrolled": true
   },
   "outputs": [
    {
     "name": "stdout",
     "output_type": "stream",
     "text": [
      "(28, 28, 3133) (28, 28, 3132)\n"
     ]
    },
    {
     "data": {
      "image/png": "[encoded data removed]",
      "text/plain": [
       "<Figure size 1080x7200 with 3 Axes>"
      ]
     },
     "metadata": {
      "needs_background": "light"
     },
     "output_type": "display_data"
    }
   ],
   "source": [
    "# Reads in the data from MNIST database\n",
    "data = read() \n",
    "\n",
    "# Retrieve the entries corresponding to the digit 7\n",
    "samples = []\n",
    "for sample in data:\n",
    "    if sample[0] == 7:\n",
    "        samples.append(sample[1].astype(float))\n",
    "        \n",
    "# Stack images in a tensor of size 28x28xnb_images\n",
    "samples = np.stack(samples,axis=2)\n",
    "\n",
    "# Defines training and testing set\n",
    "train_set = samples[:,:,:3133]\n",
    "test_set = samples[:,:,3133:]\n",
    "print(train_set.shape, test_set.shape)\n",
    "\n",
    "# Plot some images \n",
    "fig, axes = plt.subplots(1,3,figsize=(15,100))\n",
    "plt.rcParams['image.cmap'] = 'gray'\n",
    "axes[0].imshow(train_set[:,:,1])\n",
    "axes[1].imshow(train_set[:,:,100])\n",
    "axes[2].imshow(train_set[:,:,1000])\n",
    "axes[0].axis('off')\n",
    "axes[1].axis('off')\n",
    "axes[2].axis('off')\n",
    "\n",
    "# Transform the data for processing, i.e. unroll the 28x28 images in vectors of size (28*28)x1\n",
    "X = np.reshape(train_set,(28*28,3133)).T\n",
    "Y = np.reshape(test_set,(28*28,3132)).T\n"
   ]
  },
  {
   "cell_type": "markdown",
   "metadata": {},
   "source": [
    "<a id='pca'></a>\n",
    "## Principal Component Analysis\n",
    "\n",
    "The data has now been initialised, everything is set to start on coding. \n",
    "\n",
    "<a id='q1'></a>\n",
    "<b>Question 1.</b> Complete the functions `pca(.)` and `pca_project(.)`. For information, the function `np.linalg.eigh` compute the eigenvalues and eigenvectors of a symmetric matrix. It returns two arrays, the first one contains the eigenvalues in ascending order and the second one the corresponding eigenvector."
   ]
  },
  {
   "cell_type": "code",
   "execution_count": 3,
   "metadata": {},
   "outputs": [],
   "source": [
    "def pca(X,n_components = None):\n",
    "    \n",
    "    # If no number of component is specified, the function keeps them all\n",
    "    if n_components is None:\n",
    "        n_components = X.shape[1]\n",
    "    \n",
    "    ###################### TO DO QUESTION 1 ################################\n",
    "    \n",
    "    # Compute mean digit and shift the data\n",
    "    X_mean = np.mean(X,axis=0)\n",
    "    X_shift = X - X_mean\n",
    "    \n",
    "    # Compute covariance of the data\n",
    "    S = np.true_divide(np.dot(X_shift.T,X_shift),X.shape[0])\n",
    "\n",
    "    # Compute the eigenvector of the covariance matrix\n",
    "    eig_val, eig_vec = np.linalg.eigh(S)\n",
    "    \n",
    "    # Retrieve the eigenvectors to return\n",
    "    components = eig_vec[:, -n_components:]\n",
    "    \n",
    "    ###################### TO DO QUESTION 1 ################################\n",
    "    \n",
    "    # Returns the transformed data, the principal components, and the mean digit\n",
    "    return X_mean, components\n",
    "\n",
    "def pca_project(Y,X_mean,components):\n",
    "    # Compute the projection of the input data on the selected components\n",
    "    \n",
    "    ###################### TO DO QUESTION 1 ################################\n",
    "    \n",
    "    # Compute the expansion coefficients of the data\n",
    "    # Compute W\n",
    "    W = np.dot(Y-X_mean,components)\n",
    "    reconstruction = np.dot(W,components.T)\n",
    "    ###################### TO DO QUESTION 1 ################################\n",
    "    \n",
    "    return X_mean + reconstruction \n",
    "    "
   ]
  },
  {
   "cell_type": "code",
   "execution_count": 4,
   "metadata": {},
   "outputs": [
    {
     "data": {
      "text/plain": [
       "(-0.5, 27.5, 27.5, -0.5)"
      ]
     },
     "execution_count": 4,
     "metadata": {},
     "output_type": "execute_result"
    },
    {
     "data": {
      "image/png": "[encoded data removed]",
      "text/plain": [
       "<Figure size 1080x7200 with 3 Axes>"
      ]
     },
     "metadata": {
      "needs_background": "light"
     },
     "output_type": "display_data"
    },
    {
     "data": {
      "image/png": "[encoded data removed]",
      "text/plain": [
       "<Figure size 1080x7200 with 3 Axes>"
      ]
     },
     "metadata": {
      "needs_background": "light"
     },
     "output_type": "display_data"
    }
   ],
   "source": [
    "# This tests if your functions are correct, you should get the same output as we do\n",
    "X_mean, components = pca(X,n_components=None)\n",
    "\n",
    "# Reshapes the reconstructed data to have 28x28 pictures\n",
    "comp_ = np.reshape(components,(28,28,784))\n",
    "\n",
    "fig, axes = plt.subplots(1,3,figsize=(15,100))\n",
    "plt.rcParams['image.cmap'] = 'gray'\n",
    "axes[0].imshow(comp_[:,:,-1])\n",
    "axes[1].imshow(comp_[:,:,-2])\n",
    "axes[2].imshow(comp_[:,:,-3])\n",
    "axes[0].axis('off')\n",
    "axes[1].axis('off')\n",
    "axes[2].axis('off')\n",
    "\n",
    "X_projected = pca_project(X,X_mean,components)\n",
    "\n",
    "X_ = np.reshape(X_projected.T,(28,28,3133))\n",
    "fig, axes = plt.subplots(1,3,figsize=(15,100))\n",
    "plt.rcParams['image.cmap'] = 'gray'\n",
    "axes[0].imshow(train_set[:,:,0])\n",
    "axes[1].imshow(X_[:,:,0])\n",
    "axes[2].imshow(train_set[:,:,0]-X_[:,:,0]>10**(-12))\n",
    "axes[0].axis('off')\n",
    "axes[1].axis('off')\n",
    "axes[2].axis('off')"
   ]
  },
  {
   "cell_type": "markdown",
   "metadata": {},
   "source": [
    "#### Testing PCA \n",
    "\n",
    "You now have a (hopefully) working implementation of the Principal Component Analysis algorithm. Use it to fit your training set and observe the results on the testing set.\n",
    "\n",
    "<a id='q2'></a>\n",
    "<b>Question 2.</b> Use the function `pca(.)` to learn a decomposition on the <b>training set</b>. Then compute the reconstruction error $E$ on the <b>testing set</b>, for a number of components varying from 1 to 100, as defined by: \n",
    "$$\n",
    "E(D) = \\frac{1}{N}\\sum_{n=1}^N \\|I_n - (\\mathbf{\\mu}+\\sum_{k=1}^D \\omega_k^n\\mathbf{u}_k) \\|_2,\n",
    "$$\n",
    "with $I_n$ denoting the $n$-th image of the testing set, $\\mathbf{\\mu}$ is the mean digit learnt from the training set, $\\mathbf{u}_k$ is the eigenvector with the $k$-th largest eigenvalue, and $\\omega_k^n$ is the expansion coefficient of the $n$-th image on the $k$-th eigenvector. Finally, $\\|.\\|_2$ denotes the $L_2$ norm. Numpy has the method `np.linalg.norm(.)` that computes norms (check out the documentation for more infos).\n",
    "<br/>\n"
   ]
  },
  {
   "cell_type": "code",
   "execution_count": 5,
   "metadata": {},
   "outputs": [],
   "source": [
    "max_n_components = 100 # Max number of components to keep\n",
    "\n",
    "xrange = range(1,max_n_components+1)\n",
    "error = []\n",
    "\n",
    "##################### TO DO QUESTION 2 ##############################\n",
    "\n",
    "# Compute the Error for n_components between 1 and 100\n",
    "for i in xrange:\n",
    "    X_mean, components = pca(X,n_components=i)\n",
    "    X_hat = pca_project(Y,X_mean,components)\n",
    "    Diff = Y - X_hat\n",
    "    Diff_2Norm = np.linalg.norm(Diff,axis=1)\n",
    "    Error = np.true_divide(np.sum(Diff_2Norm),X_hat.shape[0])\n",
    "    error.append(Error)\n",
    "    \n",
    "    \n",
    "##################### TO DO QUESTION 2 ##############################"
   ]
  },
  {
   "cell_type": "markdown",
   "metadata": {},
   "source": [
    "<a id='q3'></a>\n",
    "<b>Question 3.</b> Plot the evolution of the error $E$ for $D = 1,\\ldots,100$."
   ]
  },
  {
   "cell_type": "code",
   "execution_count": 6,
   "metadata": {},
   "outputs": [
    {
     "data": {
      "image/png": "[encoded data removed]",
      "text/plain": [
       "<Figure size 432x288 with 1 Axes>"
      ]
     },
     "metadata": {
      "needs_background": "light"
     },
     "output_type": "display_data"
    }
   ],
   "source": [
    "\n",
    "##################### TO DO QUESTION 3 ##############################\n",
    "\n",
    "# Plot the error with respect to n_components\n",
    "fig, ax = plt.subplots()\n",
    "ax.plot(error)\n",
    "\n",
    "# Plot the name of X axis and Y axis \n",
    "plt.xlabel('M components')\n",
    "plt.ylabel('Error(M)')\n",
    "plt.show()\n",
    "\n",
    "##################### TO DO QUESTION 3 ##############################"
   ]
  },
  {
   "cell_type": "markdown",
   "metadata": {},
   "source": [
    "<a id='kmeans'></a>\n",
    "# K-Means\n",
    "\n",
    "In this section, you will complete the implementation of the k-means algorithm.\n",
    "\n",
    "<a id='q4'></a>\n",
    "<b>Question 4.</b>  Complete the function `distortion(.)` which computes the distortion cost $F$ for a given clustering of the data:\n",
    "$$\n",
    "F(m,c) = \\frac{1}{N}\\sum_{i=1}^N \\|x^i - c^{m(i)}\\|_2,\n",
    "$$\n",
    "where $N$ corresponds to the total number of images in the set and $m(i)$ denotes which cluster is assigned to the image $x^i$.<br/>"
   ]
  },
  {
   "cell_type": "code",
   "execution_count": 7,
   "metadata": {},
   "outputs": [],
   "source": [
    "def distortion(X, cluster_assignment, centroids):\n",
    "    \n",
    "    n_cluster, n_variables = centroids.shape\n",
    "    distortion = 0\n",
    "    \n",
    "    ##################### TO DO QUESTION 4 ##############################\n",
    "    \n",
    "    # Compute distortion\n",
    "    for i,x in enumerate(X):\n",
    "        Diff = x - centroids[int(cluster_assignment[i])]\n",
    "        distortion += np.linalg.norm(Diff)\n",
    "        \n",
    "    ##################### TO DO QUESTION 4 ##############################\n",
    "        \n",
    "    return distortion/X.shape[0]"
   ]
  },
  {
   "cell_type": "markdown",
   "metadata": {},
   "source": [
    "<a id='q5'></a>\n",
    "<b>Question 5.</b> Complete the functions `K-means` and `assign_cluster(.)`, make sure that it computes the distortion after each update. Then use the function on your training set, the number of cluster $k = 2$. Check that the distortion decreases as the algorithm progresses.<br/>"
   ]
  },
  {
   "cell_type": "code",
   "execution_count": 8,
   "metadata": {},
   "outputs": [],
   "source": [
    "def assign_cluster(centroids, X):\n",
    "    \n",
    "    n_observations, _ = X.shape\n",
    "    # Initialise cluster_assignment to -1\n",
    "    cluster_assignment = -1*np.ones((n_observations,))\n",
    "    \n",
    "    for i in range(n_observations):\n",
    "        ##################### TO DO QUESTION 5 ##############################\n",
    "        Diff = X[i] - centroids\n",
    "        Diff_2Norm = np.linalg.norm(Diff, axis = 1)\n",
    "        cluster_assignment[i] = np.argmin(Diff_2Norm)\n",
    "        \n",
    "        ##################### TO DO QUESTION 5 ##############################\n",
    "        \n",
    "    return cluster_assignment\n",
    "\n",
    "def kmeans(X, n_clusters = 2, max_iter =1000, tol = 10**-10, verbose = False):\n",
    "    \n",
    "    n_observations, n_variables = X.shape\n",
    "    \n",
    "    # Randomly initialise the centroids using the multivariate gaussian computed from the data\n",
    "    X_mean = np.mean(X,axis=0)\n",
    "    X_cov = np.cov(X,rowvar=False)\n",
    "    centroids = np.random.multivariate_normal(X_mean,X_cov,(n_clusters,))\n",
    "    \n",
    "    n_iter = 0\n",
    "    distortion_scores = []\n",
    "    # Loop as long as the number of iterations is below max_iter and if the converging criteria has not be met\n",
    "    while (n_iter < max_iter):\n",
    "        n_iter += 1\n",
    "        # Step 1: assign points to nearest center\n",
    "        cluster_assignment = assign_cluster(centroids,X)\n",
    "        \n",
    "        # Step 2: compute distortion\n",
    "        dist = distortion(X, cluster_assignment, centroids)\n",
    "        distortion_scores.append(dist)\n",
    "        if verbose:\n",
    "            print(\"Iteration %s, distortion = %s\" % (n_iter,dist))\n",
    "              \n",
    "        # Step 3: compute new centroids from the clusters\n",
    "        new_centroids = np.zeros(centroids.shape)\n",
    "        for j in range(n_clusters):\n",
    "            \n",
    "            ##################### TO DO QUESTION 5 ##############################\n",
    "            cluster_label = np.nonzero(cluster_assignment == j)\n",
    "            cluster_data = X[cluster_label]\n",
    "            if cluster_data.size != 0:\n",
    "                new_centroids[j] = np.mean(cluster_data, axis = 0)\n",
    "            else:\n",
    "                pass\n",
    "        \n",
    "            ##################### TO DO QUESTION 5 ##############################\n",
    "            \n",
    "        # Step 4: break the loop if difference between previous centroids and new ones is small enough\n",
    "        if np.linalg.norm(new_centroids-centroids)<tol:\n",
    "            if verbose:\n",
    "                print(\"Terminates with difference: %s\\n\" % np.linalg.norm(new_centroids-centroids))\n",
    "            break\n",
    "        else:\n",
    "            centroids = new_centroids\n",
    "    \n",
    "    return cluster_assignment, centroids, distortion_scores"
   ]
  },
  {
   "cell_type": "code",
   "execution_count": 9,
   "metadata": {},
   "outputs": [
    {
     "name": "stdout",
     "output_type": "stream",
     "text": [
      "Iteration 1, distortion = 2090.7481389717063\n",
      "Iteration 2, distortion = 1452.3091110197047\n",
      "Iteration 3, distortion = 1447.6490543130699\n",
      "Iteration 4, distortion = 1446.005894465188\n",
      "Iteration 5, distortion = 1444.893372279777\n",
      "Iteration 6, distortion = 1444.208120556854\n",
      "Iteration 7, distortion = 1443.8045936541398\n",
      "Iteration 8, distortion = 1443.6018478205244\n",
      "Iteration 9, distortion = 1443.5087750077328\n",
      "Iteration 10, distortion = 1443.434478685969\n",
      "Iteration 11, distortion = 1443.3888422890182\n",
      "Iteration 12, distortion = 1443.365125904968\n",
      "Iteration 13, distortion = 1443.3344999721169\n",
      "Iteration 14, distortion = 1443.284897951173\n",
      "Iteration 15, distortion = 1443.267950454885\n",
      "Iteration 16, distortion = 1443.2627485947248\n",
      "Terminates with difference: 0.0\n",
      "\n"
     ]
    }
   ],
   "source": [
    "# If your implementation is correct you should get the same results as us here\n",
    "np.random.seed(11) # DO NOT CHANGE THIS LINE, it ensures your random initialisation is identical to ours\n",
    "\n",
    "cluster_assignment, centroids, distortion_scores = kmeans(X,verbose=True)"
   ]
  },
  {
   "cell_type": "code",
   "execution_count": 10,
   "metadata": {},
   "outputs": [],
   "source": [
    "# Helper function to plot multiple images (non-graded)\n",
    "def plot_kmeans(centroids, n = 4):\n",
    "    \n",
    "    k = centroids.shape[0]\n",
    "    m = int(np.ceil(k/n))\n",
    "    fig, axes = plt.subplots(m,n,figsize=(n*5,m*5))\n",
    "    plt.rcParams['image.cmap'] = 'gray'\n",
    "    for c in range(k):\n",
    "        if m == 1:\n",
    "            axes[c].imshow(np.reshape(centroids[c,:],(28,28)))\n",
    "            axes[c].axis('off')\n",
    "        else:\n",
    "            i, j = int(c/n), int(c - i*n)\n",
    "            axes[i,j].imshow(np.reshape(centroids[c,:],(28,28)))\n",
    "            axes[i,j].axis('off')\n",
    "            \n",
    "    for c in range(k,m*n):\n",
    "        if m == 1:\n",
    "            axes[c].remove()\n",
    "            axes[c].axis('off')\n",
    "        else:\n",
    "            i, j = int(c/n), int(c - i*n)\n",
    "            axes[i,j].remove()\n",
    "            axes[i,j].axis('off')\n",
    "    "
   ]
  },
  {
   "cell_type": "markdown",
   "metadata": {},
   "source": [
    "#### Testing K-means\n",
    "\n",
    "<a id='q6'></a>\n",
    "<b>Question 6.</b> In order to mitigate the local minima problem of K-Means, repeat the algorithm 10 times, and keep the solution that yields the smallest distortion at the end. Show the resulting digit clusters (centroids of your clusters) using the `plot_kmeans(.)` function given.<br/>\n"
   ]
  },
  {
   "cell_type": "code",
   "execution_count": 11,
   "metadata": {},
   "outputs": [
    {
     "name": "stdout",
     "output_type": "stream",
     "text": [
      "Run k=2: 1/10.. 2/10.. 3/10.. 4/10.. 5/10.. 6/10.. 7/10.. 8/10.. 9/10.. 10/10.. \n"
     ]
    },
    {
     "data": {
      "image/png": "[encoded data removed]",
      "text/plain": [
       "<Figure size 1440x360 with 2 Axes>"
      ]
     },
     "metadata": {
      "needs_background": "light"
     },
     "output_type": "display_data"
    }
   ],
   "source": [
    "def select_clustering(X,k=2,repeats=10):\n",
    "    # Returns clustering with lowest distortion across \"repeats\" number of runs\n",
    "    clustering = None\n",
    "    print(\"Run k=%s:\" % k,end=' ')\n",
    "    \n",
    "    min_distortion = float('inf')\n",
    "    \n",
    "    for i in range(repeats):\n",
    "        print(\"%s/%s..\" % (i+1,repeats), end=' ')\n",
    "        np.random.seed(i) # Do not change this line, it insures you get the same random initialisation as us\n",
    "        \n",
    "        ##################### TO DO QUESTION 6 ##############################\n",
    "        \n",
    "        # Compute clusters and retrieve the one with lowest distortion\n",
    "        cluster_assignment, centroids, distortion_scores = kmeans(X, n_clusters = k, max_iter =1000, tol = 10**-10, verbose = False)\n",
    "        \n",
    "        if min_distortion > distortion_scores[-1]:\n",
    "            clustering = centroids\n",
    "            \n",
    "        ##################### TO DO QUESTION 6 ##############################\n",
    "            \n",
    "    print(\"\\n\",end='')\n",
    "    return clustering\n",
    "\n",
    "\n",
    "clustering = select_clustering(X)\n",
    "\n",
    "##################### TO DO QUESTION 6 ##############################\n",
    "\n",
    "# Plot the centres of the clusters\n",
    "plot_kmeans(clustering)\n",
    "\n",
    "##################### TO DO QUESTION 6 ##############################\n"
   ]
  },
  {
   "cell_type": "markdown",
   "metadata": {},
   "source": [
    "<a id='q7'></a>\n",
    "<b>Question 7.</b> Repeat the procedure of Question 6 for values of $k = 3,4,5,10,50,100$ (Allow for ~10min). Plot the evolution of the distortion cost of the training and testing data. Remember to use the functions `select_clustering(.)`, `assign_cluster(.)`, and `distortion(.)` defined earlier."
   ]
  },
  {
   "cell_type": "code",
   "execution_count": 12,
   "metadata": {},
   "outputs": [
    {
     "name": "stdout",
     "output_type": "stream",
     "text": [
      "Run k=2: 1/10.. 2/10.. 3/10.. 4/10.. 5/10.. 6/10.. 7/10.. 8/10.. 9/10.. 10/10.. \n",
      "Run k=3: 1/10.. 2/10.. 3/10.. 4/10.. 5/10.. 6/10.. 7/10.. 8/10.. 9/10.. 10/10.. \n",
      "Run k=4: 1/10.. 2/10.. 3/10.. 4/10.. 5/10.. 6/10.. 7/10.. 8/10.. 9/10.. 10/10.. \n",
      "Run k=5: 1/10.. 2/10.. 3/10.. 4/10.. 5/10.. 6/10.. 7/10.. 8/10.. 9/10.. 10/10.. \n",
      "Run k=10: 1/10.. 2/10.. 3/10.. 4/10.. 5/10.. 6/10.. 7/10.. 8/10.. 9/10.. 10/10.. \n",
      "Run k=50: 1/10.. 2/10.. 3/10.. 4/10.. 5/10.. 6/10.. 7/10.. 8/10.. 9/10.. 10/10.. \n",
      "Run k=100: 1/10.. 2/10.. 3/10.. 4/10.. 5/10.. 6/10.. 7/10.. 8/10.. 9/10.. 10/10.. \n"
     ]
    }
   ],
   "source": [
    "train_distortions = []\n",
    "test_distortions = []\n",
    "\n",
    "ks = [2,3,4,5,10,50,100]\n",
    "\n",
    "\n",
    "##################### TO DO QUESTION 7 ##############################\n",
    "for i in ks:\n",
    "    clustering = select_clustering(X,k=i,repeats=10)\n",
    "    \n",
    "    train_clustering = assign_cluster(clustering, X)\n",
    "    train_distortion = distortion(X, train_clustering, clustering)\n",
    "    train_distortions.append(train_distortion)\n",
    "    \n",
    "    test_clustering = assign_cluster(clustering, Y)\n",
    "    test_distortion = distortion(Y, test_clustering, clustering)\n",
    "    test_distortions.append(test_distortion)\n",
    "    \n",
    "##################### TO DO QUESTION 7 ##############################"
   ]
  },
  {
   "cell_type": "code",
   "execution_count": 13,
   "metadata": {},
   "outputs": [
    {
     "data": {
      "text/plain": [
       "<matplotlib.legend.Legend at 0x237b29d3a60>"
      ]
     },
     "execution_count": 13,
     "metadata": {},
     "output_type": "execute_result"
    },
    {
     "data": {
      "image/png": "[encoded data removed]",
      "text/plain": [
       "<Figure size 432x288 with 1 Axes>"
      ]
     },
     "metadata": {
      "needs_background": "light"
     },
     "output_type": "display_data"
    }
   ],
   "source": [
    "# Plotting the evolution of distortion for train and test set\n",
    "fig = plt.figure()\n",
    "\n",
    "##################### TO DO QUESTION 7 ##############################\n",
    "plt.plot(ks, train_distortions, 'r-', label = \"Train\")\n",
    "plt.plot(ks, test_distortions, 'b-', label = \"Test\")\n",
    "\n",
    "##################### TO DO QUESTION 7 ##############################\n",
    "\n",
    "plt.xlabel(\"Number of clusters k\")\n",
    "plt.ylabel(\"Distortion\")\n",
    "plt.legend(['Train', 'Test'])"
   ]
  },
  {
   "cell_type": "markdown",
   "metadata": {},
   "source": [
    "<a id='comparison'></a>\n",
    "# Comparison\n",
    "\n",
    "<a id='q8'></a>\n",
    "<b>Question 8.</b> Compare the results from PCA to the results of K-means on the <b>test set</b> by plotting on the same graph the reconstruction error $E(D)$ for $D = 3,4,5,10,50,100$ and the distortion cost you just computed (remark that the two measures are simply L$_2$ norms thus the comparison is valid). To be clear, the first one measure the error in the reconstructed image from the projection on the components of PCA, the second measure the error between each image and the centroid of the cluster it is assigned to. Both correpond to the error made when approximating the original image to either its projection or its cluster's centroid."
   ]
  },
  {
   "cell_type": "code",
   "execution_count": 14,
   "metadata": {},
   "outputs": [],
   "source": [
    "# No need to recompute kmeans here, just compute PCA for the corresponding values of k (similar to question 2/3)\n",
    "\n",
    "n_components = [2,3,4,5,10,50,100] # Max number of components to keep\n",
    "\n",
    "error = []\n",
    "\n",
    "##################### TO DO QUESTION 8 ##############################\n",
    "for i in n_components:\n",
    "    X_mean, components = pca(X,n_components=i)\n",
    "    X_hat = pca_project(Y,X_mean,components)\n",
    "    Diff = Y - X_hat\n",
    "    Diff_2Norm = np.linalg.norm(Diff,axis=1)\n",
    "    Error = np.true_divide(np.sum(Diff_2Norm),X_hat.shape[0])\n",
    "    error.append(Error)\n",
    "    \n",
    "##################### TO DO QUESTION 8 ##############################"
   ]
  },
  {
   "cell_type": "code",
   "execution_count": 15,
   "metadata": {},
   "outputs": [
    {
     "data": {
      "text/plain": [
       "<matplotlib.legend.Legend at 0x237b2a9a280>"
      ]
     },
     "execution_count": 15,
     "metadata": {},
     "output_type": "execute_result"
    },
    {
     "data": {
      "image/png": "[encoded data removed]",
      "text/plain": [
       "<Figure size 432x288 with 1 Axes>"
      ]
     },
     "metadata": {
      "needs_background": "light"
     },
     "output_type": "display_data"
    }
   ],
   "source": [
    "# Plotting the comparison\n",
    "\n",
    "fig = plt.figure()\n",
    "\n",
    "##################### TO DO QUESTION 8 ##############################\n",
    "plt.plot(n_components, error, 'r-', label = \"PCA\")\n",
    "plt.plot(n_components, test_distortions, 'b-', label = \"K-means\")\n",
    "\n",
    "##################### TO DO QUESTION 8 ##############################\n",
    "\n",
    "plt.xlabel(\"Number of clusters/components (k/D)\")\n",
    "plt.ylabel(\"Approximation errors\")\n",
    "\n",
    "plt.legend(['PCA', 'K-means'])"
   ]
  },
  {
   "cell_type": "code",
   "execution_count": null,
   "metadata": {},
   "outputs": [],
   "source": []
  }
 ],
 "metadata": {
  "kernelspec": {
   "display_name": "Python 3",
   "language": "python",
   "name": "python3"
  },
  "language_info": {
   "codemirror_mode": {
    "name": "ipython",
    "version": 3
   },
   "file_extension": ".py",
   "mimetype": "text/x-python",
   "name": "python",
   "nbconvert_exporter": "python",
   "pygments_lexer": "ipython3",
   "version": "3.8.3"
  }
 },
 "nbformat": 4,
 "nbformat_minor": 2
}
